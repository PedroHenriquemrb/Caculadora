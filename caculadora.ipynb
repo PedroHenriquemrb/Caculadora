{
  "cells": [
    {
      "cell_type": "markdown",
      "metadata": {
        "id": "view-in-github",
        "colab_type": "text"
      },
      "source": [
        "<a href=\"https://colab.research.google.com/github/PedroHenriquemrb/Caculadora/blob/main/caculadora.ipynb\" target=\"_parent\"><img src=\"https://colab.research.google.com/assets/colab-badge.svg\" alt=\"Open In Colab\"/></a>"
      ]
    },
    {
      "cell_type": "code",
      "source": [
        "def menu():\n",
        "  print('''\n",
        "  Funções:\n",
        "  Soma '+',\n",
        "\n",
        "  Subtração '-'\n",
        "\n",
        "  Multiplicação,\n",
        "\n",
        "  Divisão ':' '/',\n",
        "\n",
        "  Porcentagem '%' e\n",
        "\n",
        "  Raiz 'Raiz'.\n",
        "      ''')"
      ],
      "metadata": {
        "id": "seAjYmbDEzxV"
      },
      "execution_count": null,
      "outputs": []
    },
    {
      "cell_type": "code",
      "source": [
        "def choice(opcao):\n",
        "  opcao_1 = '0'\n",
        "  valor = '0'\n",
        "  match opcao:\n",
        "    case '*' | 'M' | 'X' | 'm' | 'x' :\n",
        "      valor= numero_1 * numero_2\n",
        "      opcao_1 ='x'\n",
        "    case '-' :\n",
        "      valor= numero_1 - numero_2\n",
        "      opcao_1 ='-'\n",
        "    case '+' :\n",
        "      valor= numero_1 + numero_2\n",
        "      opcao_1 ='+'\n",
        "    case ':''/' :\n",
        "      valor= numero_1 / numero_2\n",
        "      opcao_1 =':'\n",
        "    case '^':\n",
        "      valor= numero_1 ** numero_2\n",
        "      opcao_1 = '^'\n",
        "    case '%':\n",
        "      valor=(numero_1 * numero_2)/100\n",
        "      opcao_1 = '%'\n",
        "    case 'Raiz' | 'raiz':\n",
        "      valor= numero_1**(1/numero_2)\n",
        "      opcao_1 = 'Raiz'\n",
        "    case _:\n",
        "      valor = 'Você informou uma função invalida'\n",
        "      opcao_1 = 'invalido'\n",
        "\n",
        "  return [opcao_1,valor]"
      ],
      "metadata": {
        "id": "5bq3oOPmGijQ"
      },
      "execution_count": null,
      "outputs": []
    },
    {
      "cell_type": "code",
      "execution_count": null,
      "metadata": {
        "colab": {
          "base_uri": "https://localhost:8080/"
        },
        "id": "JuyULOa4wRR5",
        "outputId": "f219078d-c86f-45f5-e181-59068506f7f8"
      },
      "outputs": [
        {
          "output_type": "stream",
          "name": "stdout",
          "text": [
            "\n",
            "  Funções:\n",
            "  Soma '+',\n",
            "\n",
            "  Subtração '-'\n",
            "\n",
            "  Multiplicação,\n",
            "\n",
            "  Divisão ':' '/',\n",
            "\n",
            "  Porcentagem '%' e\n",
            "\n",
            "  Raiz 'Raiz'.\n",
            "      \n"
          ]
        }
      ],
      "source": [
        "12#arrumar interface\n",
        "funcao=1\n",
        "while funcao != '0' :\n",
        "  menu()\n",
        "  numero_1 = float(input('numero 1: '))\n",
        "  numero_2 = float(input('numero 2: '))\n",
        "  funcao = (input('função:'))\n",
        "  resposta = 0\n",
        "\n",
        "  resposta=choice(funcao)\n",
        "\n",
        "  if (type(resposta) is str):\n",
        "    print('Mensagem: {}' .format(resposta))\n",
        "  else:\n",
        "    print( 'vc pediu {} {} {} = {} ' .format(numero_1, funcao, numero_2, resposta[1]))\n",
        "\n",
        "print('fim')"
      ]
    }
  ],
  "metadata": {
    "colab": {
      "provenance": [],
      "authorship_tag": "ABX9TyM+rLyYtilgwTZNmADRstq2",
      "include_colab_link": true
    },
    "kernelspec": {
      "display_name": "Python 3",
      "name": "python3"
    },
    "language_info": {
      "name": "python"
    }
  },
  "nbformat": 4,
  "nbformat_minor": 0
}